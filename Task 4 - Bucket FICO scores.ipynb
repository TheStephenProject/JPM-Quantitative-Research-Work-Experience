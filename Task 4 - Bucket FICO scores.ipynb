{
 "cells": [
  {
   "cell_type": "code",
   "execution_count": 1,
   "id": "2bfec87c-e786-4c2c-b102-d95255f3425f",
   "metadata": {},
   "outputs": [],
   "source": [
    "import numpy as np\n",
    "import pandas as pd\n",
    "from scipy.optimize import minimize"
   ]
  },
  {
   "cell_type": "code",
   "execution_count": 2,
   "id": "5254d780-a3a6-492c-bc77-a91b3dc0be85",
   "metadata": {},
   "outputs": [],
   "source": [
    "loan_data = pd.read_csv(\"Loan_Data.csv\")"
   ]
  },
  {
   "cell_type": "code",
   "execution_count": 3,
   "id": "794e0f0a-6ede-4d59-8885-77c12dcc810a",
   "metadata": {},
   "outputs": [
    {
     "data": {
      "text/plain": [
       "408"
      ]
     },
     "execution_count": 3,
     "metadata": {},
     "output_type": "execute_result"
    }
   ],
   "source": [
    "loan_data.fico_score.min()"
   ]
  },
  {
   "cell_type": "code",
   "execution_count": 4,
   "id": "c2024bcb-700b-4197-8a23-180c7df26410",
   "metadata": {},
   "outputs": [
    {
     "data": {
      "text/plain": [
       "850"
      ]
     },
     "execution_count": 4,
     "metadata": {},
     "output_type": "execute_result"
    }
   ],
   "source": [
    "loan_data.fico_score.max()"
   ]
  },
  {
   "cell_type": "code",
   "execution_count": 5,
   "id": "23f2e0dd-525b-475b-8454-e505f1ff8aff",
   "metadata": {},
   "outputs": [
    {
     "name": "stdout",
     "output_type": "stream",
     "text": [
      "Optimal boundaries: [300.  496.4 584.8 673.2 761.6 850. ]\n"
     ]
    }
   ],
   "source": [
    "# Number of buckets\n",
    "k = 5\n",
    "\n",
    "# Initial boundaries (simple initialization)\n",
    "initial_boundaries = np.linspace(loan_data.fico_score.min(), loan_data.fico_score.max(), k+1)\n",
    "\n",
    "def calculate_log_likelihood(boundaries):\n",
    "    boundaries = np.sort(boundaries)\n",
    "    log_likelihood = 0\n",
    "    for i in range(len(boundaries) - 1):\n",
    "        bucket_data = loan_data[(loan_data['fico_score'] >= boundaries[i]) & (loan_data['fico_score'] < boundaries[i+1])]\n",
    "        ni = len(bucket_data)\n",
    "        ki = bucket_data['default'].sum()\n",
    "        pi = ki / ni if ni > 0 else 0.00001\n",
    "        log_likelihood += ni * np.log(pi) + (ni - ki) * np.log(1 - pi)\n",
    "    return -log_likelihood  # Minimize negative log-likelihood\n",
    "\n",
    "# Optimize boundaries\n",
    "result = minimize(calculate_log_likelihood, initial_boundaries[1:-1], bounds=[(300, 850)] * (k - 1), method='L-BFGS-B')\n",
    "optimal_boundaries = np.concatenate(([300], result.x, [850]))\n",
    "\n",
    "print(\"Optimal boundaries:\", optimal_boundaries)\n"
   ]
  },
  {
   "cell_type": "code",
   "execution_count": 11,
   "id": "abce576c-0db2-479c-92e9-ca9a270921d6",
   "metadata": {},
   "outputs": [
    {
     "data": {
      "text/plain": [
       "array([300. , 496.4, 584.8, 673.2, 761.6, 850. ])"
      ]
     },
     "execution_count": 11,
     "metadata": {},
     "output_type": "execute_result"
    }
   ],
   "source": [
    "optimal_boundaries"
   ]
  }
 ],
 "metadata": {
  "kernelspec": {
   "display_name": "Python 3 (ipykernel)",
   "language": "python",
   "name": "python3"
  },
  "language_info": {
   "codemirror_mode": {
    "name": "ipython",
    "version": 3
   },
   "file_extension": ".py",
   "mimetype": "text/x-python",
   "name": "python",
   "nbconvert_exporter": "python",
   "pygments_lexer": "ipython3",
   "version": "3.12.4"
  }
 },
 "nbformat": 4,
 "nbformat_minor": 5
}
