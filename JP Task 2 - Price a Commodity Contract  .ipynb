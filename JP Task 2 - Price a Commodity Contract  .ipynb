{
 "cells": [
  {
   "cell_type": "markdown",
   "id": "1a67a9bc-2bad-488e-8f22-cc1a34c81aae",
   "metadata": {},
   "source": [
    "# TASK 2: Calculating the value of a contract"
   ]
  },
  {
   "cell_type": "markdown",
   "id": "3b1287a1-9086-4c97-b716-ec135325d6d7",
   "metadata": {
    "jp-MarkdownHeadingCollapsed": true
   },
   "source": [
    "## Setting up price prediction model for Task 2"
   ]
  },
  {
   "cell_type": "code",
   "execution_count": 12,
   "id": "ac6f83fa-744f-4abe-b9a4-631355ec7a3b",
   "metadata": {},
   "outputs": [
    {
     "name": "stderr",
     "output_type": "stream",
     "text": [
      "16:33:52 - cmdstanpy - INFO - Chain [1] start processing\n",
      "16:33:52 - cmdstanpy - INFO - Chain [1] done processing\n"
     ]
    }
   ],
   "source": [
    "# Importing Libaries\n",
    "import pandas as pd\n",
    "from prophet import Prophet\n",
    "import datetime as dt\n",
    "\n",
    "# Reading in datasets\n",
    "nat_gas = pd.read_csv(\"Nat_Gas.csv\")\n",
    "# Convert the 'Dates' column to datetime format\n",
    "nat_gas['Dates'] = pd.to_datetime(nat_gas['Dates'], format='%m/%d/%y')\n",
    "# Ordering Data\n",
    "nat_gas.set_index('Dates', inplace=True)\n",
    "\n",
    "# Prepare data for Prophet\n",
    "prophet_data = nat_gas.reset_index()[['Dates', 'Prices']].rename(columns={'Dates': 'ds', 'Prices': 'y'})\n",
    "\n",
    "# Initialise and fit the Prophet model\n",
    "prophet_model = Prophet()\n",
    "prophet_model.fit(prophet_data)\n",
    "\n",
    "nat_gas.reset_index(inplace = True)\n",
    "\n",
    "def get_price_predictions(dates):\n",
    "    # Check if dates is a list\n",
    "    if not isinstance(dates, list):\n",
    "        raise ValueError(\"The input should be a list of dates.\")\n",
    "    \n",
    "    # Initialize an empty list to store predictions\n",
    "    predictions = []\n",
    "    \n",
    "    # Convert list of dates to a DataFrame for Prophet\n",
    "    df_dates = pd.DataFrame({'ds': [dt.datetime.strptime(date, \"%Y-%m-%d\") if isinstance(date, str) else date for date in dates]})\n",
    "    \n",
    "    # Ensure 'ds' column is in the correct datetime format\n",
    "    df_dates['ds'] = pd.to_datetime(df_dates['ds'])\n",
    "    \n",
    "    # Predict using Prophet model\n",
    "    forecast = prophet_model.predict(df_dates)\n",
    "    \n",
    "    # Extract and rename columns of interest\n",
    "    forecast_df = forecast[['ds', 'yhat', 'yhat_lower', 'yhat_upper']]\n",
    "    \n",
    "    # Rename columns\n",
    "    forecast_df = forecast_df.rename(\n",
    "        columns={\n",
    "            \"ds\": \"Dates\",\n",
    "            \"yhat\": \"Predicted Price\",\n",
    "            \"yhat_lower\": \"Lower Bound Uncertainty Interval\",\n",
    "            \"yhat_upper\": \"Upper Bound Uncertainty Interval\"\n",
    "        }\n",
    "    )\n",
    "    \n",
    "    return forecast_df"
   ]
  },
  {
   "cell_type": "code",
   "execution_count": 14,
   "id": "1c0eade0-0fdd-42d6-b2e8-06f2ad1e733e",
   "metadata": {},
   "outputs": [
    {
     "data": {
      "text/html": [
       "<div>\n",
       "<style scoped>\n",
       "    .dataframe tbody tr th:only-of-type {\n",
       "        vertical-align: middle;\n",
       "    }\n",
       "\n",
       "    .dataframe tbody tr th {\n",
       "        vertical-align: top;\n",
       "    }\n",
       "\n",
       "    .dataframe thead th {\n",
       "        text-align: right;\n",
       "    }\n",
       "</style>\n",
       "<table border=\"1\" class=\"dataframe\">\n",
       "  <thead>\n",
       "    <tr style=\"text-align: right;\">\n",
       "      <th></th>\n",
       "      <th>Dates</th>\n",
       "      <th>Predicted Price</th>\n",
       "      <th>Lower Bound Uncertainty Interval</th>\n",
       "      <th>Upper Bound Uncertainty Interval</th>\n",
       "    </tr>\n",
       "  </thead>\n",
       "  <tbody>\n",
       "    <tr>\n",
       "      <th>0</th>\n",
       "      <td>2024-09-01</td>\n",
       "      <td>11.926671</td>\n",
       "      <td>11.755825</td>\n",
       "      <td>12.102350</td>\n",
       "    </tr>\n",
       "    <tr>\n",
       "      <th>1</th>\n",
       "      <td>2024-10-01</td>\n",
       "      <td>11.836000</td>\n",
       "      <td>11.644049</td>\n",
       "      <td>12.004872</td>\n",
       "    </tr>\n",
       "    <tr>\n",
       "      <th>2</th>\n",
       "      <td>2024-11-01</td>\n",
       "      <td>11.941295</td>\n",
       "      <td>11.754883</td>\n",
       "      <td>12.130328</td>\n",
       "    </tr>\n",
       "    <tr>\n",
       "      <th>3</th>\n",
       "      <td>2026-01-14</td>\n",
       "      <td>13.559415</td>\n",
       "      <td>13.372011</td>\n",
       "      <td>13.741288</td>\n",
       "    </tr>\n",
       "  </tbody>\n",
       "</table>\n",
       "</div>"
      ],
      "text/plain": [
       "       Dates  Predicted Price  Lower Bound Uncertainty Interval  \\\n",
       "0 2024-09-01        11.926671                         11.755825   \n",
       "1 2024-10-01        11.836000                         11.644049   \n",
       "2 2024-11-01        11.941295                         11.754883   \n",
       "3 2026-01-14        13.559415                         13.372011   \n",
       "\n",
       "   Upper Bound Uncertainty Interval  \n",
       "0                         12.102350  \n",
       "1                         12.004872  \n",
       "2                         12.130328  \n",
       "3                         13.741288  "
      ]
     },
     "execution_count": 14,
     "metadata": {},
     "output_type": "execute_result"
    }
   ],
   "source": [
    "dates = [\"2024-09-01\", \"2024-10-01\", dt.datetime(2024, 11, 1), \"2026-01-14\"]\n",
    "forecast_df = get_price_predictions(dates)\n",
    "forecast_df\n"
   ]
  },
  {
   "cell_type": "markdown",
   "id": "24774304-a437-4a90-a454-8a7b508581cb",
   "metadata": {},
   "source": [
    "for a single injection and withdraw date the price of the contract can be detemrined as follows:\n",
    "\n",
    "- sell price - buy price\n",
    "- minus storage fee (monthly storage fee * num_of_months stored)\n",
    "- minus injection_withdraw_cost (rate/1000000 * volume)\n",
    "- minus transport cost * 2 - fixed\n",
    "- contract_value = (sell price - buy price) - storage_fee - injection)withdraw_cost - transport_cost\n",
    "\n",
    "need to ensure the injection dates and withdrawal dates are a list of dates"
   ]
  },
  {
   "cell_type": "markdown",
   "id": "007476fb-2a22-4019-becd-b9f6bb9d84ba",
   "metadata": {},
   "source": [
    "# Task 2"
   ]
  },
  {
   "cell_type": "code",
   "execution_count": 57,
   "id": "c6ca2dee-8393-48d1-8bf7-664421e8f761",
   "metadata": {},
   "outputs": [],
   "source": [
    "import pandas as pd\n",
    "\n",
    "def contract_value(injection_dates, withdrawal_dates, injection_rate, \n",
    "                   max_storage_volume, monthly_storage_costs, injection_withdrawal_costs):\n",
    "\n",
    "    value_of_contract = 0\n",
    "    avg_num_day_per_month = 30.42\n",
    "    \n",
    "    for i in range(len(injection_dates)):\n",
    "\n",
    "        # Get prices for injection and withdrawal dates\n",
    "        injection_df = get_price_predictions([injection_dates[i]])\n",
    "        injection_price = injection_df['Predicted Price'].values[0]\n",
    "        print(f\"injection_price: {injection_price:,.2f}\")\n",
    "        \n",
    "        withdrawal_df = get_price_predictions([withdrawal_dates[i]])\n",
    "        withdrawal_price = withdrawal_df['Predicted Price'].values[0]\n",
    "        print(f\"withdrawal_price: {withdrawal_price:,.2f}\")\n",
    "\n",
    "        # Calculate the number of months in storage\n",
    "        months_in_store = round((pd.to_datetime(withdrawal_dates[i]) - pd.to_datetime(injection_dates[i])).days / avg_num_day_per_month)\n",
    "        print(f\"months_in_store: {months_in_store}\")\n",
    "        \n",
    "        # Calculate the total volume in storage\n",
    "        total_injected_volume = min(months_in_store * injection_rate, max_storage_volume)\n",
    "        print(f\"total_injected_volume: {total_injected_volume:,}\")\n",
    "\n",
    "        # Calculate costs and revenues\n",
    "        cost_of_injection = (total_injected_volume * injection_price) + (total_injected_volume / 1000000 * injection_withdrawal_costs) + transport_cost\n",
    "        print(f\"cost_of_injection: {cost_of_injection:,.2f}\")\n",
    "        \n",
    "        revenue_from_sale = (total_injected_volume * withdrawal_price) - (total_injected_volume / 1000000 * injection_withdrawal_costs)\n",
    "        print(f\"revenue_from_sale: {revenue_from_sale:,.2f}\")\n",
    "        \n",
    "        total_storage_cost = months_in_store * monthly_storage_costs\n",
    "        print(f\"total_storage_cost: {total_storage_cost:,.2f}\")\n",
    "\n",
    "        # Update the total value of the contract\n",
    "        value_of_contract += (revenue_from_sale - cost_of_injection - total_storage_cost)\n",
    "\n",
    "    # Format and return the final contract value\n",
    "    return f\"Contract Value: {value_of_contract:,.2f}\"\n"
   ]
  },
  {
   "cell_type": "code",
   "execution_count": 59,
   "id": "6ab7b77f-9135-454f-8874-2cfc3774b949",
   "metadata": {},
   "outputs": [],
   "source": [
    "# Parameters\n",
    "monthly_storage_costs = 100000\n",
    "transport_cost = 50000\n",
    "injection_rate = 1000000\n",
    "injection_withdrawal_costs = 10000\n",
    "max_storage_volume = 5000000\n",
    "injection_dates = [\"2024-10-31\"]\n",
    "withdrawal_dates = [\"2025-02-28\"]"
   ]
  },
  {
   "cell_type": "code",
   "execution_count": 61,
   "id": "1bbd169f-e620-47fe-a3ab-e1dd1e4b2be5",
   "metadata": {},
   "outputs": [
    {
     "name": "stdout",
     "output_type": "stream",
     "text": [
      "injection_price: 11.96\n",
      "withdrawal_price: 12.88\n",
      "months_in_store: 4\n",
      "total_injected_volume: 4,000,000\n",
      "cost_of_injection: 47,931,013.57\n",
      "revenue_from_sale: 51,461,145.96\n",
      "total_storage_cost: 400,000.00\n"
     ]
    },
    {
     "data": {
      "text/plain": [
       "'Contract Value: 3,130,132.39'"
      ]
     },
     "execution_count": 61,
     "metadata": {},
     "output_type": "execute_result"
    }
   ],
   "source": [
    "contract_value(injection_dates, withdrawal_dates, injection_rate, \n",
    "                   max_storage_volume, monthly_storage_costs, injection_withdrawal_costs)"
   ]
  }
 ],
 "metadata": {
  "kernelspec": {
   "display_name": "Python 3 (ipykernel)",
   "language": "python",
   "name": "python3"
  },
  "language_info": {
   "codemirror_mode": {
    "name": "ipython",
    "version": 3
   },
   "file_extension": ".py",
   "mimetype": "text/x-python",
   "name": "python",
   "nbconvert_exporter": "python",
   "pygments_lexer": "ipython3",
   "version": "3.12.4"
  }
 },
 "nbformat": 4,
 "nbformat_minor": 5
}
